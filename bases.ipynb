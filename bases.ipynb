{
 "metadata": {
  "language_info": {
   "codemirror_mode": {
    "name": "ipython",
    "version": 3
   },
   "file_extension": ".py",
   "mimetype": "text/x-python",
   "name": "python",
   "nbconvert_exporter": "python",
   "pygments_lexer": "ipython3",
   "version": "3.7.9"
  },
  "orig_nbformat": 2,
  "kernelspec": {
   "name": "python3",
   "display_name": "Python 3.7.9 64-bit",
   "metadata": {
    "interpreter": {
     "hash": "70f9338631b1e814274bb6be12ff2af50260dd3a60751a7a596f31e11ca463b8"
    }
   }
  }
 },
 "nbformat": 4,
 "nbformat_minor": 2,
 "cells": [
  {
   "cell_type": "code",
   "execution_count": 57,
   "metadata": {},
   "outputs": [],
   "source": [
    "import pandas as pd\n",
    "import numpy as np\n",
    "import datetime as dt\n"
   ]
  },
  {
   "cell_type": "code",
   "execution_count": 52,
   "metadata": {},
   "outputs": [],
   "source": [
    "np.random.seed(0)"
   ]
  },
  {
   "cell_type": "code",
   "execution_count": 53,
   "metadata": {},
   "outputs": [],
   "source": [
    "path = '/Users/guilhermediniz/Documents/Drive/Gestao de Trafego/Prospeccao/'\n",
    "file = 'p002 - Moda Feminina - BH.json'"
   ]
  },
  {
   "cell_type": "code",
   "execution_count": 62,
   "metadata": {},
   "outputs": [
    {
     "output_type": "execute_result",
     "data": {
      "text/plain": [
       "                                            placeUrl             title rating  \\\n",
       "0  https://www.google.com/maps/place/BH+MODA+FEMI...  BH MODA FEMININA          \n",
       "1  https://www.google.com/maps/place/Nalu+Womensw...   Nalu Womenswear    4.4   \n",
       "\n",
       "  reviewCount                category  \\\n",
       "0              Women's clothing store   \n",
       "1          18  Women's clothing store   \n",
       "\n",
       "                                          attributes  \\\n",
       "0  ·  In-store shopping  ·  In-store pickup  ·  D...   \n",
       "1           ·  In-store shopping  ·  In-store pickup   \n",
       "\n",
       "                                             address  \\\n",
       "0  R. Alexandrita, 16 - Betânia, Belo Horizonte -...   \n",
       "1  R. São Miguel, 1523 - Itapoã, Belo Horizonte -...   \n",
       "\n",
       "                                            plusCode  \\\n",
       "0  22R6+77 Betânia, Belo Horizonte - State of Min...   \n",
       "1  525W+2C Itapoã, Belo Horizonte - State of Mina...   \n",
       "\n",
       "                         website        phoneNumber  ... saturday  sunday  \\\n",
       "0  bh-moda-feminina.negocio.site   +55 31 3517-3512  ...  9AM–1PM  Closed   \n",
       "1                  instagram.com  +55 31 98781-4125  ...  9AM–7PM  Closed   \n",
       "\n",
       "     monday   tuesday       currentStatus                     info  \\\n",
       "0  10AM–7PM  10AM–7PM  Open now  10AM–7PM  Identifies as women-led   \n",
       "1   9AM–7PM   9AM–7PM   Open now  9AM–7PM                      NaN   \n",
       "\n",
       "                                              imgUrl isClaimed  \\\n",
       "0  https://www.gstatic.com/images/icons/material/...      True   \n",
       "1  https://www.gstatic.com/images/icons/material/...     False   \n",
       "\n",
       "                                               query               timestamp  \n",
       "0  https://www.google.com/maps/search/moda+femini... 2021-10-06 13:09:44.233  \n",
       "1  https://www.google.com/maps/search/moda+femini... 2021-10-06 13:09:47.449  \n",
       "\n",
       "[2 rows x 23 columns]"
      ],
      "text/html": "<div>\n<style scoped>\n    .dataframe tbody tr th:only-of-type {\n        vertical-align: middle;\n    }\n\n    .dataframe tbody tr th {\n        vertical-align: top;\n    }\n\n    .dataframe thead th {\n        text-align: right;\n    }\n</style>\n<table border=\"1\" class=\"dataframe\">\n  <thead>\n    <tr style=\"text-align: right;\">\n      <th></th>\n      <th>placeUrl</th>\n      <th>title</th>\n      <th>rating</th>\n      <th>reviewCount</th>\n      <th>category</th>\n      <th>attributes</th>\n      <th>address</th>\n      <th>plusCode</th>\n      <th>website</th>\n      <th>phoneNumber</th>\n      <th>...</th>\n      <th>saturday</th>\n      <th>sunday</th>\n      <th>monday</th>\n      <th>tuesday</th>\n      <th>currentStatus</th>\n      <th>info</th>\n      <th>imgUrl</th>\n      <th>isClaimed</th>\n      <th>query</th>\n      <th>timestamp</th>\n    </tr>\n  </thead>\n  <tbody>\n    <tr>\n      <th>0</th>\n      <td>https://www.google.com/maps/place/BH+MODA+FEMI...</td>\n      <td>BH MODA FEMININA</td>\n      <td></td>\n      <td></td>\n      <td>Women's clothing store</td>\n      <td>·  In-store shopping  ·  In-store pickup  ·  D...</td>\n      <td>R. Alexandrita, 16 - Betânia, Belo Horizonte -...</td>\n      <td>22R6+77 Betânia, Belo Horizonte - State of Min...</td>\n      <td>bh-moda-feminina.negocio.site</td>\n      <td>+55 31 3517-3512</td>\n      <td>...</td>\n      <td>9AM–1PM</td>\n      <td>Closed</td>\n      <td>10AM–7PM</td>\n      <td>10AM–7PM</td>\n      <td>Open now  10AM–7PM</td>\n      <td>Identifies as women-led</td>\n      <td>https://www.gstatic.com/images/icons/material/...</td>\n      <td>True</td>\n      <td>https://www.google.com/maps/search/moda+femini...</td>\n      <td>2021-10-06 13:09:44.233</td>\n    </tr>\n    <tr>\n      <th>1</th>\n      <td>https://www.google.com/maps/place/Nalu+Womensw...</td>\n      <td>Nalu Womenswear</td>\n      <td>4.4</td>\n      <td>18</td>\n      <td>Women's clothing store</td>\n      <td>·  In-store shopping  ·  In-store pickup</td>\n      <td>R. São Miguel, 1523 - Itapoã, Belo Horizonte -...</td>\n      <td>525W+2C Itapoã, Belo Horizonte - State of Mina...</td>\n      <td>instagram.com</td>\n      <td>+55 31 98781-4125</td>\n      <td>...</td>\n      <td>9AM–7PM</td>\n      <td>Closed</td>\n      <td>9AM–7PM</td>\n      <td>9AM–7PM</td>\n      <td>Open now  9AM–7PM</td>\n      <td>NaN</td>\n      <td>https://www.gstatic.com/images/icons/material/...</td>\n      <td>False</td>\n      <td>https://www.google.com/maps/search/moda+femini...</td>\n      <td>2021-10-06 13:09:47.449</td>\n    </tr>\n  </tbody>\n</table>\n<p>2 rows × 23 columns</p>\n</div>"
     },
     "metadata": {},
     "execution_count": 62
    }
   ],
   "source": [
    "df = pd.read_json(path + file)\n",
    "df['timestamp']=df['timestamp'].dt.tz_localize(None)\n",
    "# df[\"timestamp\"] = pd.to_datetime(df[\"timestamp\"])\n",
    "df.head(2)"
   ]
  },
  {
   "cell_type": "code",
   "execution_count": 63,
   "metadata": {},
   "outputs": [
    {
     "output_type": "execute_result",
     "data": {
      "text/plain": [
       "(124, 23)"
      ]
     },
     "metadata": {},
     "execution_count": 63
    }
   ],
   "source": [
    "df = df[df.website != '']\n",
    "df.shape"
   ]
  },
  {
   "cell_type": "code",
   "execution_count": 64,
   "metadata": {},
   "outputs": [],
   "source": [
    "df.to_excel('moda_feminina_com_seites.xlsx')"
   ]
  },
  {
   "cell_type": "code",
   "execution_count": null,
   "metadata": {},
   "outputs": [],
   "source": []
  }
 ]
}